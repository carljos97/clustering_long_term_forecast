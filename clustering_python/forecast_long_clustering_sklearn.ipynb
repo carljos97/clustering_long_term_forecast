{
 "cells": [
  {
   "cell_type": "code",
   "execution_count": 1,
   "metadata": {},
   "outputs": [],
   "source": [
    "import datetime as dt\n",
    "import pandas as pd\n",
    "\n",
    "import numpy as np\n",
    "from matplotlib import pyplot as plt\n",
    "from sklearn.cluster import KMeans"
   ]
  },
  {
   "cell_type": "code",
   "execution_count": 2,
   "metadata": {},
   "outputs": [
    {
     "data": {
      "text/html": [
       "<div>\n",
       "<style scoped>\n",
       "    .dataframe tbody tr th:only-of-type {\n",
       "        vertical-align: middle;\n",
       "    }\n",
       "\n",
       "    .dataframe tbody tr th {\n",
       "        vertical-align: top;\n",
       "    }\n",
       "\n",
       "    .dataframe thead th {\n",
       "        text-align: right;\n",
       "    }\n",
       "</style>\n",
       "<table border=\"1\" class=\"dataframe\">\n",
       "  <thead>\n",
       "    <tr style=\"text-align: right;\">\n",
       "      <th></th>\n",
       "      <th>offpeak_measurements</th>\n",
       "      <th>week_of_the_year</th>\n",
       "      <th>day_of_the_week</th>\n",
       "    </tr>\n",
       "  </thead>\n",
       "  <tbody>\n",
       "    <tr>\n",
       "      <th>0</th>\n",
       "      <td>0.587758</td>\n",
       "      <td>14</td>\n",
       "      <td>4</td>\n",
       "    </tr>\n",
       "    <tr>\n",
       "      <th>1</th>\n",
       "      <td>0.595823</td>\n",
       "      <td>14</td>\n",
       "      <td>5</td>\n",
       "    </tr>\n",
       "    <tr>\n",
       "      <th>2</th>\n",
       "      <td>0.603288</td>\n",
       "      <td>14</td>\n",
       "      <td>6</td>\n",
       "    </tr>\n",
       "    <tr>\n",
       "      <th>3</th>\n",
       "      <td>0.520695</td>\n",
       "      <td>14</td>\n",
       "      <td>7</td>\n",
       "    </tr>\n",
       "    <tr>\n",
       "      <th>4</th>\n",
       "      <td>0.515403</td>\n",
       "      <td>15</td>\n",
       "      <td>1</td>\n",
       "    </tr>\n",
       "  </tbody>\n",
       "</table>\n",
       "</div>"
      ],
      "text/plain": [
       "   offpeak_measurements  week_of_the_year  day_of_the_week\n",
       "0              0.587758                14                4\n",
       "1              0.595823                14                5\n",
       "2              0.603288                14                6\n",
       "3              0.520695                14                7\n",
       "4              0.515403                15                1"
      ]
     },
     "execution_count": 2,
     "metadata": {},
     "output_type": "execute_result"
    }
   ],
   "source": [
    "df = pd.read_excel('dailyconsume_id1.xlsx')\n",
    "df_offpeak = df.drop(columns=['date','peak_measurements'])\n",
    "df_peak = df.drop(columns=['date','offpeak_measurements'])\n",
    "\n",
    "df_offpeak.head()"
   ]
  },
  {
   "cell_type": "code",
   "execution_count": 3,
   "metadata": {},
   "outputs": [
    {
     "data": {
      "text/html": [
       "<div>\n",
       "<style scoped>\n",
       "    .dataframe tbody tr th:only-of-type {\n",
       "        vertical-align: middle;\n",
       "    }\n",
       "\n",
       "    .dataframe tbody tr th {\n",
       "        vertical-align: top;\n",
       "    }\n",
       "\n",
       "    .dataframe thead th {\n",
       "        text-align: right;\n",
       "    }\n",
       "</style>\n",
       "<table border=\"1\" class=\"dataframe\">\n",
       "  <thead>\n",
       "    <tr style=\"text-align: right;\">\n",
       "      <th></th>\n",
       "      <th>offpeak_measurements</th>\n",
       "      <th>week_of_the_year</th>\n",
       "      <th>day_of_the_week</th>\n",
       "    </tr>\n",
       "  </thead>\n",
       "  <tbody>\n",
       "    <tr>\n",
       "      <th>1</th>\n",
       "      <td>0.595823</td>\n",
       "      <td>14</td>\n",
       "      <td>5</td>\n",
       "    </tr>\n",
       "    <tr>\n",
       "      <th>8</th>\n",
       "      <td>0.579191</td>\n",
       "      <td>15</td>\n",
       "      <td>5</td>\n",
       "    </tr>\n",
       "    <tr>\n",
       "      <th>15</th>\n",
       "      <td>0.563598</td>\n",
       "      <td>16</td>\n",
       "      <td>5</td>\n",
       "    </tr>\n",
       "    <tr>\n",
       "      <th>22</th>\n",
       "      <td>0.538209</td>\n",
       "      <td>17</td>\n",
       "      <td>5</td>\n",
       "    </tr>\n",
       "    <tr>\n",
       "      <th>29</th>\n",
       "      <td>0.558841</td>\n",
       "      <td>18</td>\n",
       "      <td>5</td>\n",
       "    </tr>\n",
       "  </tbody>\n",
       "</table>\n",
       "</div>"
      ],
      "text/plain": [
       "    offpeak_measurements  week_of_the_year  day_of_the_week\n",
       "1               0.595823                14                5\n",
       "8               0.579191                15                5\n",
       "15              0.563598                16                5\n",
       "22              0.538209                17                5\n",
       "29              0.558841                18                5"
      ]
     },
     "execution_count": 3,
     "metadata": {},
     "output_type": "execute_result"
    }
   ],
   "source": [
    "df_offpeak_thursday = df_offpeak.drop(df_offpeak[(df_offpeak['day_of_the_week'] != 5)].index)\n",
    "df_offpeak_thursday.head()"
   ]
  },
  {
   "cell_type": "code",
   "execution_count": 4,
   "metadata": {},
   "outputs": [
    {
     "data": {
      "text/plain": [
       "<AxesSubplot:xlabel='week_of_the_year', ylabel='offpeak_measurements'>"
      ]
     },
     "execution_count": 4,
     "metadata": {},
     "output_type": "execute_result"
    },
    {
     "data": {
      "image/png": "[encoded data removed]",
      "text/plain": [
       "<Figure size 432x288 with 1 Axes>"
      ]
     },
     "metadata": {
      "needs_background": "light"
     },
     "output_type": "display_data"
    }
   ],
   "source": [
    "df_offpeak_thursday.plot.scatter(x=\"week_of_the_year\", y=\"offpeak_measurements\", xlabel = 'mês do ano',ylabel='consumo fora ponta')"
   ]
  },
  {
   "cell_type": "code",
   "execution_count": 5,
   "metadata": {},
   "outputs": [
    {
     "data": {
      "text/plain": [
       "array([[ 0.5958225, 14.       ],\n",
       "       [ 0.5791905, 15.       ],\n",
       "       [ 0.563598 , 16.       ],\n",
       "       [ 0.538209 , 17.       ],\n",
       "       [ 0.5588415, 18.       ],\n",
       "       [ 0.5548725, 19.       ],\n",
       "       [ 0.568575 , 20.       ],\n",
       "       [ 0.537957 , 21.       ],\n",
       "       [ 0.534492 , 22.       ],\n",
       "       [ 0.5390595, 23.       ],\n",
       "       [ 0.603603 , 24.       ],\n",
       "       [ 0.5350905, 25.       ],\n",
       "       [ 0.5435325, 26.       ],\n",
       "       [ 0.541926 , 27.       ],\n",
       "       [ 0.5472495, 28.       ],\n",
       "       [ 0.5347125, 29.       ],\n",
       "       [ 0.55755  , 30.       ],\n",
       "       [ 0.51282  , 31.       ],\n",
       "       [ 0.522081 , 32.       ],\n",
       "       [ 0.5023935, 33.       ],\n",
       "       [ 0.5349015, 34.       ],\n",
       "       [ 0.3174885, 35.       ],\n",
       "       [ 0.5618025, 36.       ],\n",
       "       [ 0.5807025, 37.       ],\n",
       "       [ 0.736344 , 38.       ],\n",
       "       [ 0.583632 , 39.       ],\n",
       "       [ 0.6014925, 40.       ],\n",
       "       [ 0.568197 , 41.       ],\n",
       "       [ 0.684747 , 42.       ],\n",
       "       [ 0.5478795, 43.       ],\n",
       "       [ 0.678573 , 44.       ],\n",
       "       [ 0.4983615, 45.       ],\n",
       "       [ 0.5522895, 46.       ],\n",
       "       [ 0.563976 , 47.       ],\n",
       "       [ 0.6125805, 49.       ],\n",
       "       [ 0.5757885, 50.       ],\n",
       "       [ 0.612801 , 51.       ],\n",
       "       [ 0.477666 , 52.       ],\n",
       "       [ 0.5170725,  1.       ],\n",
       "       [ 0.568197 ,  2.       ],\n",
       "       [ 0.684747 ,  3.       ],\n",
       "       [ 0.5478795,  4.       ],\n",
       "       [ 0.678573 ,  5.       ],\n",
       "       [ 0.4983615,  6.       ],\n",
       "       [ 0.5522895,  7.       ],\n",
       "       [ 0.563976 ,  8.       ],\n",
       "       [ 0.520884 ,  9.       ],\n",
       "       [ 0.477666 , 10.       ],\n",
       "       [ 0.488124 , 11.       ],\n",
       "       [ 0.492282 , 12.       ],\n",
       "       [ 0.436023 , 13.       ],\n",
       "       [ 0.5170725, 14.       ]])"
      ]
     },
     "execution_count": 5,
     "metadata": {},
     "output_type": "execute_result"
    }
   ],
   "source": [
    "X = df_offpeak_thursday.iloc[:, 0:2].values\n",
    "X"
   ]
  },
  {
   "cell_type": "code",
   "execution_count": 6,
   "metadata": {},
   "outputs": [
    {
     "name": "stdout",
     "output_type": "stream",
     "text": [
      "1 11384.99240371929\n",
      "2 2850.321943901176\n",
      "3 1320.2961761683398\n",
      "4 751.1926922850026\n",
      "5 479.86268058604406\n",
      "6 328.64605458837366\n",
      "7 244.7507019558462\n",
      "8 191.0723650240343\n",
      "9 168.2896259242291\n",
      "10 125.1606706916137\n",
      "11 101.24299978991917\n",
      "12 88.6430147977004\n",
      "13 81.15722033286882\n",
      "14 63.95260355231664\n",
      "15 62.95665660019141\n",
      "16 50.3036311660633\n",
      "17 40.29204091157911\n",
      "18 37.910553801953135\n",
      "19 37.33755776393521\n"
     ]
    },
    {
     "data": {
      "image/png": "[encoded data removed]",
      "text/plain": [
       "<Figure size 432x288 with 1 Axes>"
      ]
     },
     "metadata": {
      "needs_background": "light"
     },
     "output_type": "display_data"
    }
   ],
   "source": [
    "from sklearn.cluster import KMeans\n",
    "wcss = []\n",
    " \n",
    "for i in range(1, 20):\n",
    "    kmeans = KMeans(n_clusters = i, init = 'random')\n",
    "    kmeans.fit(X)\n",
    "    print(i,kmeans.inertia_)\n",
    "    wcss.append(kmeans.inertia_)  \n",
    "plt.plot(range(1, 20), wcss)\n",
    "plt.title('O Metodo Elbow')\n",
    "plt.xlabel('Numero de Clusters')\n",
    "plt.ylabel('WSS') #within cluster sum of squares\n",
    "plt.show()"
   ]
  },
  {
   "cell_type": "code",
   "execution_count": 7,
   "metadata": {},
   "outputs": [],
   "source": [
    "k_means = KMeans(n_clusters=12)\n",
    "model = k_means.fit(X)\n",
    "\n",
    "y_hat = k_means.predict(X)"
   ]
  },
  {
   "cell_type": "code",
   "execution_count": 8,
   "metadata": {},
   "outputs": [
    {
     "data": {
      "text/plain": [
       "0.45673459796613736"
      ]
     },
     "execution_count": 8,
     "metadata": {},
     "output_type": "execute_result"
    }
   ],
   "source": [
    "from sklearn import metrics\n",
    "labels = k_means.labels_\n",
    "metrics.silhouette_score(X, labels, metric = 'euclidean')"
   ]
  },
  {
   "cell_type": "code",
   "execution_count": 9,
   "metadata": {},
   "outputs": [
    {
     "data": {
      "text/plain": [
       "519.4620509090729"
      ]
     },
     "execution_count": 9,
     "metadata": {},
     "output_type": "execute_result"
    }
   ],
   "source": [
    "metrics.calinski_harabasz_score(X, labels)\n"
   ]
  },
  {
   "cell_type": "code",
   "execution_count": 10,
   "metadata": {},
   "outputs": [
    {
     "data": {
      "text/plain": [
       "array([[ 0.6348825 , 40.        ],\n",
       "       [ 0.53202713, 14.        ],\n",
       "       [ 0.5348826 , 30.        ],\n",
       "       [ 0.5992938 ,  3.        ],\n",
       "       [ 0.569709  , 50.5       ],\n",
       "       [ 0.54502088, 21.5       ],\n",
       "       [ 0.53387775,  7.5       ],\n",
       "       [ 0.4994577 , 35.        ],\n",
       "       [ 0.556038  , 25.5       ],\n",
       "       [ 0.5682159 , 45.        ],\n",
       "       [ 0.55388025, 17.5       ],\n",
       "       [ 0.486024  , 11.        ]])"
      ]
     },
     "execution_count": 10,
     "metadata": {},
     "output_type": "execute_result"
    }
   ],
   "source": [
    "centers = k_means.cluster_centers_\n",
    "centers"
   ]
  },
  {
   "cell_type": "code",
   "execution_count": 11,
   "metadata": {},
   "outputs": [
    {
     "data": {
      "text/plain": [
       "Text(0, 0.5, 'Medição de consumo em fora ponta')"
      ]
     },
     "execution_count": 11,
     "metadata": {},
     "output_type": "execute_result"
    },
    {
     "data": {
      "image/png": "[encoded data removed]",
      "text/plain": [
       "<Figure size 432x288 with 1 Axes>"
      ]
     },
     "metadata": {
      "needs_background": "light"
     },
     "output_type": "display_data"
    }
   ],
   "source": [
    "plt.scatter(X[:, 1], X[:, 0], c=y_hat, s=50, cmap='viridis')\n",
    "plt.scatter(centers[:, 1], centers[:, 0], c='black', s=200, alpha=0.5)\n",
    "plt.xlabel(\"Semana do ano\")\n",
    "plt.ylabel(\"Medição de consumo em fora ponta\")"
   ]
  },
  {
   "cell_type": "code",
   "execution_count": null,
   "metadata": {},
   "outputs": [],
   "source": []
  },
  {
   "cell_type": "code",
   "execution_count": null,
   "metadata": {},
   "outputs": [],
   "source": []
  }
 ],
 "metadata": {
  "kernelspec": {
   "display_name": "Python 3",
   "language": "python",
   "name": "python3"
  },
  "language_info": {
   "codemirror_mode": {
    "name": "ipython",
    "version": 3
   },
   "file_extension": ".py",
   "mimetype": "text/x-python",
   "name": "python",
   "nbconvert_exporter": "python",
   "pygments_lexer": "ipython3",
   "version": "3.8.5"
  }
 },
 "nbformat": 4,
 "nbformat_minor": 4
}
